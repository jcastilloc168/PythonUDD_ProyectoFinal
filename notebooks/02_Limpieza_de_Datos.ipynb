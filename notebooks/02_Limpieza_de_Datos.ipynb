{
 "cells": [
  {
   "cell_type": "markdown",
   "metadata": {},
   "source": [
    "# Limpieza de datos en el dataset base de matrícula estudiantes en educación superior"
   ]
  },
  {
   "cell_type": "markdown",
   "metadata": {},
   "source": [
    "### 1) Cargamos el dataset"
   ]
  },
  {
   "cell_type": "code",
   "execution_count": null,
   "metadata": {},
   "outputs": [],
   "source": [
    "import pandas as pd\n",
    "\n",
    "# Configuración para mostrar todas las columnas\n",
    "pd.set_option('display.max_columns', None)\n",
    "pd.set_option('display.max_rows', None)\n",
    "\n",
    "# URL cruda del archivo CSV en GitHub\n",
    "url = 'https://github.com/jcastilloc168/PythonUDD_ProyectoFinal/raw/main/data/BaseDefinitivaINDICES-2005-2024.csv'\n",
    "\n",
    "# Leer el archivo CSV desde GitHub\n",
    "df = pd.read_csv(url, delimiter=';')"
   ]
  },
  {
   "cell_type": "markdown",
   "metadata": {},
   "source": [
    "### 2) Tratamiento de valores nulos"
   ]
  },
  {
   "cell_type": "markdown",
   "metadata": {},
   "source": [
    "2.1 **Eliminación de columnas**. Segun la información proporcionada por el notebook exploratorio del dataset, al tener una porcentaje elevado de valores nulos. Por otra parte, se han eliminado columnas que no son significativas para el estudio que se esta realizando, tales como, nombre del campus, código del campus y codigo SIES. En resumen, las columnas no consideradas son las siguientes:\n",
    "\n",
    "| Nombre del Campo                                      | Valores Nulos | Porcentaje de Valores Nulos (%) |\n",
    "|-------------------------------------------------------|---------------|-----------------------------|\n",
    "| Mínimo Puntaje Ranking                                | 211823        | 91.013109                   |\n",
    "| Máximo Puntaje Ranking                                | 211810        | 91.007523                   |\n",
    "| Promedio Puntaje Ranking                              | 211667        | 90.946081                   |\n",
    "| Mínimo Puntaje NEM                                    | 210787        | 90.567975                   |\n",
    "| Máximo Puntaje NEM                                    | 210774        | 90.562390                   |\n",
    "| Promedio Puntaje NEM                                  | 210589        | 90.482901                   |\n",
    "| Mención o Especialidad                                | 200534        | 86.162611                   |\n",
    "| Puntaje de corte (promedio de la carrera)             | 196798        | 84.557380                   |\n",
    "| Puntaje de corte (primer seleccionado)                | 196702        | 84.516132                   |\n",
    "| Puntaje de corte (último seleccionado)                | 194667        | 83.641762                   |\n",
    "| Mínimo Puntaje (promedio matemáticas y lenguaje)      | 191162        | 82.135783                   |\n",
    "| Promedio Puntaje (promedio matemáticas y lenguaje)    | 191004        | 82.067896                   |\n",
    "| Máximo Puntaje (promedio matemáticas y lenguaje)      | 190712        | 81.942433                   |\n",
    "| Nº Alumnos Ingreso Via PSU o PDT                      | 189276        | 81.325433                   |\n",
    "| Nº Alumnos Ingreso Otra Via                           | 155281        | 66.718943                   |\n",
    "| Nombre del Campus                                     | 122362        | 52.574773                   |\n",
    "| Cód. Campus                                           | 121914        | 52.382282                   |\n",
    "| Códgo SIES                                            | 87047         | 37.401123                   |"
   ]
  },
  {
   "cell_type": "code",
   "execution_count": 5,
   "metadata": {},
   "outputs": [
    {
     "name": "stdout",
     "output_type": "stream",
     "text": [
      "Columnas eliminadas: ['Máximo Puntaje (promedio matemáticas y lenguaje)', 'Promedio Puntaje (promedio matemáticas y lenguaje)', 'Mínimo Puntaje (promedio matemáticas y lenguaje)', 'Puntaje de corte (primer seleccionado)', 'Puntaje de corte (promedio de la carrera)', 'Puntaje de corte (último seleccionado)', 'Máximo Puntaje NEM', 'Promedio Puntaje NEM', 'Mínimo Puntaje NEM', 'Máximo Puntaje Ranking', 'Promedio Puntaje Ranking', 'Mínimo Puntaje Ranking', 'Nº Alumnos Ingreso Via PSU o PDT', 'Nº Alumnos Ingreso Otra Via', 'Mención o Especialidad', 'Nombre del Campus', 'Cód. Campus', 'Códgo SIES']\n"
     ]
    }
   ],
   "source": [
    "# Definir el rango de columnas a eliminar\n",
    "columns_to_delete_range = df.loc[:, 'Máximo Puntaje (promedio matemáticas y lenguaje)':'Nº Alumnos Ingreso Otra Via'].columns\n",
    "\n",
    "# Columnas individuales adicionales a eliminar\n",
    "additional_columns_to_delete = ['Mención o Especialidad', 'Nombre del Campus', 'Cód. Campus', 'Códgo SIES']\n",
    "\n",
    "# Combinar ambas listas de columnas a eliminar\n",
    "columns_to_delete = list(columns_to_delete_range) + additional_columns_to_delete\n",
    "\n",
    "# Eliminar las columnas del DataFrame\n",
    "df.drop(columns=columns_to_delete, inplace=True)\n",
    "\n",
    "# Imprimir las columnas eliminadas\n",
    "print(\"Columnas eliminadas:\", columns_to_delete)\n"
   ]
  },
  {
   "cell_type": "markdown",
   "metadata": {},
   "source": [
    "2.2) **Imputacion a valores vacios con la asignacion de ceros**. Para el caso del campo \"Duracion (en semestres)\" se ha rellenado el valor con la mediana de la columna.\n",
    "\n",
    "Las siguientes columnas estan vacias y analizando el dataset, el correspondiente valor corresponde a cero:\n",
    "\n",
    "| Nombre del Campo                                      | Valores Nulos | Porcentaje de Valores Nulos (%) |\n",
    "|-------------------------------------------------------|---------------|-----------------------------|\n",
    "| Matrícula primer año extranjeros                      | 64016         | 27.505489                   |\n",
    "| Vacantes                                              | 61255         | 26.319182                   |\n",
    "| Valor de arancel                                      | 59433         | 25.536330                   |\n",
    "| Matrícula total extranjeros                           | 54405         | 23.375971                   |\n",
    "| Valor de matrícula                                    | 53390         | 22.939860                   |\n",
    "| Valor del Título                                      | 37857         | 16.265860                   |\n",
    "| Matrícula primer año mujeres                          | 22340         | 9.598735                    |\n",
    "| Matrícula primer año hombres                          | 22100         | 9.495615                    |\n",
    "| Matrícula total mujeres                               | 3758          | 1.614684                    |\n",
    "| Matrícula total hombres                               | 3347          | 1.438092                    |"
   ]
  },
  {
   "cell_type": "code",
   "execution_count": null,
   "metadata": {},
   "outputs": [],
   "source": [
    "columns_to_fill = [\n",
    "    'Matrícula primer año hombres', 'Matrícula primer año mujeres', 'Matrícula primer año extranjeros', \n",
    "    'Matrícula total hombres', 'Matrícula total mujeres', 'Matrícula total extranjeros', \n",
    "    'Valor de matrícula', 'Valor de arancel', 'Valor del Título', 'Vacantes'\n",
    "]\n",
    "\n",
    "# Rellenar valores nulos en las columnas específicas con cero\n",
    "df[columns_to_fill] = df[columns_to_fill].fillna(0)\n",
    "\n",
    "# Calcular la mediana y rellenar valores nulos en la columna \"Duración (en semestres)\" en una sola línea\n",
    "df['Duración (en semestres)'].fillna(df['Duración (en semestres)'].median(), inplace=True)"
   ]
  }
 ],
 "metadata": {
  "kernelspec": {
   "display_name": "Python 3",
   "language": "python",
   "name": "python3"
  },
  "language_info": {
   "codemirror_mode": {
    "name": "ipython",
    "version": 3
   },
   "file_extension": ".py",
   "mimetype": "text/x-python",
   "name": "python",
   "nbconvert_exporter": "python",
   "pygments_lexer": "ipython3",
   "version": "3.12.4"
  }
 },
 "nbformat": 4,
 "nbformat_minor": 2
}
