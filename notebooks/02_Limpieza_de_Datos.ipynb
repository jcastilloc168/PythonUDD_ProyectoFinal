{
 "cells": [
  {
   "cell_type": "markdown",
   "metadata": {},
   "source": [
    "# Limpieza de datos en el dataset base de matrícula estudiantes en educación superior"
   ]
  },
  {
   "cell_type": "markdown",
   "metadata": {},
   "source": [
    "### 1) Cargamos el dataset"
   ]
  },
  {
   "cell_type": "code",
   "execution_count": null,
   "metadata": {},
   "outputs": [],
   "source": [
    "import pandas as pd\n",
    "\n",
    "# Configuración para mostrar todas las columnas\n",
    "pd.set_option('display.max_columns', None)\n",
    "pd.set_option('display.max_rows', None)\n",
    "\n",
    "# URL cruda del archivo CSV en GitHub\n",
    "url = 'https://github.com/jcastilloc168/PythonUDD_ProyectoFinal/raw/main/data/BaseDefinitivaINDICES-2005-2024.csv'\n",
    "\n",
    "# Leer el archivo CSV desde GitHub\n",
    "df = pd.read_csv(url, delimiter=';')"
   ]
  },
  {
   "cell_type": "markdown",
   "metadata": {},
   "source": [
    "### 2) Tratamiento de valores nulos"
   ]
  },
  {
   "cell_type": "markdown",
   "metadata": {},
   "source": [
    "2.1 **Eliminación de columnas**. Segun la información proporcionada por el notebook exploratorio del dataset, al tener una porcentaje elevado de valores nulos. Por otra parte, se han eliminado columnas que no son significativas para el estudio que se esta realizando, tales como, nombre del campus, código del campus y codigo SIES. En resumen, las columnas no consideradas son las siguientes:\n",
    "\n",
    "| Nombre del Campo                                      | Valores Nulos | Porcentaje de Valores Nulos (%) |\n",
    "|-------------------------------------------------------|---------------|-----------------------------|\n",
    "| Mínimo Puntaje Ranking                                | 211823        | 91.013109                   |\n",
    "| Máximo Puntaje Ranking                                | 211810        | 91.007523                   |\n",
    "| Promedio Puntaje Ranking                              | 211667        | 90.946081                   |\n",
    "| Mínimo Puntaje NEM                                    | 210787        | 90.567975                   |\n",
    "| Máximo Puntaje NEM                                    | 210774        | 90.562390                   |\n",
    "| Promedio Puntaje NEM                                  | 210589        | 90.482901                   |\n",
    "| Mención o Especialidad                                | 200534        | 86.162611                   |\n",
    "| Puntaje de corte (promedio de la carrera)             | 196798        | 84.557380                   |\n",
    "| Puntaje de corte (primer seleccionado)                | 196702        | 84.516132                   |\n",
    "| Puntaje de corte (último seleccionado)                | 194667        | 83.641762                   |\n",
    "| Mínimo Puntaje (promedio matemáticas y lenguaje)      | 191162        | 82.135783                   |\n",
    "| Promedio Puntaje (promedio matemáticas y lenguaje)    | 191004        | 82.067896                   |\n",
    "| Máximo Puntaje (promedio matemáticas y lenguaje)      | 190712        | 81.942433                   |\n",
    "| Nº Alumnos Ingreso Via PSU o PDT                      | 189276        | 81.325433                   |\n",
    "| Nº Alumnos Ingreso Otra Via                           | 155281        | 66.718943                   |\n",
    "| Nombre del Campus                                     | 122362        | 52.574773                   |\n",
    "| Cód. Campus                                           | 121914        | 52.382282                   |\n",
    "| Códgo SIES                                            | 87047         | 37.401123                   |"
   ]
  },
  {
   "cell_type": "code",
   "execution_count": 5,
   "metadata": {},
   "outputs": [
    {
     "name": "stdout",
     "output_type": "stream",
     "text": [
      "Columnas eliminadas: ['Máximo Puntaje (promedio matemáticas y lenguaje)', 'Promedio Puntaje (promedio matemáticas y lenguaje)', 'Mínimo Puntaje (promedio matemáticas y lenguaje)', 'Puntaje de corte (primer seleccionado)', 'Puntaje de corte (promedio de la carrera)', 'Puntaje de corte (último seleccionado)', 'Máximo Puntaje NEM', 'Promedio Puntaje NEM', 'Mínimo Puntaje NEM', 'Máximo Puntaje Ranking', 'Promedio Puntaje Ranking', 'Mínimo Puntaje Ranking', 'Nº Alumnos Ingreso Via PSU o PDT', 'Nº Alumnos Ingreso Otra Via', 'Mención o Especialidad', 'Nombre del Campus', 'Cód. Campus', 'Códgo SIES']\n"
     ]
    }
   ],
   "source": [
    "# Definir el rango de columnas a eliminar\n",
    "columns_to_delete_range = df.loc[:, 'Máximo Puntaje (promedio matemáticas y lenguaje)':'Nº Alumnos Ingreso Otra Via'].columns\n",
    "\n",
    "# Columnas individuales adicionales a eliminar\n",
    "additional_columns_to_delete = ['Mención o Especialidad', 'Nombre del Campus', 'Cód. Campus', 'Códgo SIES']\n",
    "\n",
    "# Combinar ambas listas de columnas a eliminar\n",
    "columns_to_delete = list(columns_to_delete_range) + additional_columns_to_delete\n",
    "\n",
    "# Eliminar las columnas del DataFrame\n",
    "df.drop(columns=columns_to_delete, inplace=True)\n",
    "\n",
    "# Imprimir las columnas eliminadas\n",
    "print(\"Columnas eliminadas:\", columns_to_delete)\n"
   ]
  },
  {
   "cell_type": "markdown",
   "metadata": {},
   "source": [
    "2.2) **Imputacion a valores vacios con la asignacion de ceros**. Para el caso del campo \"Duracion (en semestres)\" se ha rellenado el valor con la mediana de la columna.\n",
    "\n",
    "Las siguientes columnas estan vacias y analizando el dataset, el correspondiente valor corresponde a cero:\n",
    "\n",
    "| Nombre del Campo                                      | Valores Nulos | Porcentaje de Valores Nulos (%) |\n",
    "|-------------------------------------------------------|---------------|-----------------------------|\n",
    "| Matrícula primer año extranjeros                      | 64016         | 27.505489                   |\n",
    "| Vacantes                                              | 61255         | 26.319182                   |\n",
    "| Valor de arancel                                      | 59433         | 25.536330                   |\n",
    "| Matrícula total extranjeros                           | 54405         | 23.375971                   |\n",
    "| Valor de matrícula                                    | 53390         | 22.939860                   |\n",
    "| Valor del Título                                      | 37857         | 16.265860                   |\n",
    "| Matrícula primer año mujeres                          | 22340         | 9.598735                    |\n",
    "| Matrícula primer año hombres                          | 22100         | 9.495615                    |\n",
    "| Matrícula total mujeres                               | 3758          | 1.614684                    |\n",
    "| Matrícula total hombres                               | 3347          | 1.438092                    |"
   ]
  },
  {
   "cell_type": "code",
   "execution_count": null,
   "metadata": {},
   "outputs": [],
   "source": [
    "columns_to_fill = [\n",
    "    'Matrícula primer año hombres', 'Matrícula primer año mujeres', 'Matrícula primer año extranjeros', \n",
    "    'Matrícula total hombres', 'Matrícula total mujeres', 'Matrícula total extranjeros', \n",
    "    'Valor de matrícula', 'Valor de arancel', 'Valor del Título', 'Vacantes'\n",
    "]\n",
    "\n",
    "# Rellenar valores nulos en las columnas específicas con cero\n",
    "df[columns_to_fill] = df[columns_to_fill].fillna(0)\n",
    "\n",
    "# Calcular la mediana y rellenar valores nulos en la columna \"Duración (en semestres)\" en una sola línea\n",
    "df['Duración (en semestres)'].fillna(df['Duración (en semestres)'].median(), inplace=True)"
   ]
  },
  {
   "cell_type": "markdown",
   "metadata": {},
   "source": [
    "### 3) Normalizar los valores de moneda a **pesos chilenos**\n",
    "\n",
    "Se tiene que las columnas \"Valor de matrícula\", \"Valor de arancel\" y \"Valor del Título\" existe valores que estan expresados en UF, por tanto, se realiza una normalización para que todos los valores de moneda sea pesos chilenos. Para llevar a cabo lo anterior, definimos un diccionario de los valores UF a pesos chilenos entre los años 2005 al 2024 y cada valor representa el ultimo valor de UF del año repectivo y para el año 2024 corresponde a la UF al día 02.08.2024."
   ]
  },
  {
   "cell_type": "code",
   "execution_count": 7,
   "metadata": {},
   "outputs": [],
   "source": [
    "# diccionario UF a pesos chileno por año\n",
    "uf_por_ano = {\n",
    "    2005: 17975, 2006: 18336, 2007: 19623, 2008: 21453, 2009: 20943, 2010: 21456,\n",
    "    2011: 22294, 2012: 22841, 2013: 23310, 2014: 24627, 2015: 25629, 2016: 26348,\n",
    "    2017: 26798, 2018: 27566, 2019: 28310, 2020: 29070, 2021: 30992, 2022: 35111, 2023: 36789, 2024: 37579\n",
    "}\n",
    "\n",
    "# Función para limpiar y convertir a tipo numérico\n",
    "def limpiar_y_convertir(columna):\n",
    "    columna = columna.astype(str).str.replace(',', '', regex=False).str.strip()\n",
    "    return pd.to_numeric(columna, errors='coerce')\n",
    "\n",
    "# Aplicar la función a las columnas numéricas\n",
    "columnas_numericas = ['Duración (en semestres)', 'Valor de matrícula', 'Valor de arancel', 'Valor del Título', 'Vacantes']\n",
    "for columna in columnas_numericas:\n",
    "    df[columna] = limpiar_y_convertir(df[columna])\n",
    "\n",
    "# Limpiar la columna \"Tipo Moneda\" eliminando espacios en blanco adicionales\n",
    "df['Tipo Moneda'] = df['Tipo Moneda'].str.strip()\n",
    "\n",
    "# Recalcular valores según el tipo de moneda\n",
    "def recalcular_valores(row):\n",
    "    if row['Tipo Moneda'] == 'UF':\n",
    "        ano = row['Año']\n",
    "        if ano in uf_por_ano:\n",
    "            uf_promedio = uf_por_ano[ano]\n",
    "            row['Valor de matrícula'] = row['Valor de matrícula'] * uf_promedio\n",
    "            row['Valor de arancel'] = row['Valor de arancel'] * uf_promedio\n",
    "            row['Valor del Título'] = row['Valor del Título'] * uf_promedio\n",
    "    return row\n",
    "\n",
    "# Aplicar la función de recalculación\n",
    "df = df.apply(recalcular_valores, axis=1)"
   ]
  },
  {
   "cell_type": "markdown",
   "metadata": {},
   "source": [
    "### 4) Renombrar las columnas y quitar las tildes al archivo"
   ]
  },
  {
   "cell_type": "code",
   "execution_count": null,
   "metadata": {},
   "outputs": [],
   "source": [
    "# Diccionario con los nuevos nombres de las columnas\n",
    "nuevos_nombres = {\n",
    "    'Año': 'Anio', 'Cód. Institución': 'Cod_Institucion', 'Nombre Institución': 'Nombre_Institucion',\n",
    "    'Tipo Institución': 'Tipo_Institucion', 'Clasificación1': 'Clasificacion1', 'Clasificación2': 'Clasificacion2',\n",
    "    'Clasificación3': 'Clasificacion3', 'Clasificación4': 'Clasificacion4', 'Clasificación5': 'Clasificacion5',\n",
    "    'Clasificación6': 'Clasificacion6', 'Duración (en semestres)': 'Duracion', 'Valor de matrícula': 'Valor_Matricula',\n",
    "    'Valor de arancel': 'Valor_Arancel', 'Valor del Título': 'Valor_Titulo', 'Vacantes': 'Vacantes',\n",
    "    'Matrícula primer año hombres': 'Matricula_Primer_Anio_Hombres', 'Matrícula primer año mujeres': 'Matricula_Primer_Anio_Mujeres',\n",
    "    'Matrícula primer año extranjeros': 'Matricula_Primer_Anio_Extranjeros', 'auxiliar': 'Auxiliar', 'Matrícula Primer Año': 'Matricula_Primer_Anio',\n",
    "    'Matrícula total hombres': 'Matricula_Total_Hombres', 'Matrícula total mujeres': 'Matricula_Total_Mujeres',\n",
    "    'Matrícula total extranjeros': 'Matricula_Total_Extranjeros', 'Matrícula Total': 'Matricula_Total',\n",
    "    'Pregrado/Posgrado': 'Pregrado_Posgrado', 'Título y Grado Académico': 'Titulo_Grado_Academico',\n",
    "    'Nombre de la Sede': 'Nombre_Sede', 'Comuna donde se imparte la carrera o programa': 'Comuna', 'Nombre Region': 'Nombre_Region',\n",
    "    'Orden Geográfico de la Región (Norte aSur)': 'Orden_Geografico', 'Cód. Carrera': 'Cod_Carrera', 'Carrera Genérica': 'Carrera_Generica',\n",
    "    'Nombre Programa': 'Nombre_Programa', 'Tipo Programa': 'Tipo_Programa', 'Area Conocimiento': 'Area_Conocimiento',\n",
    "    'Tipo Carrera': 'Tipo_Carrera', 'IngresoDirecto': 'Ingreso_Directo', 'Año Inicio Actividades': 'Anio_Inicio_Actividades',\n",
    "    'Cód. Sede': 'Cod_Sede', 'Tipo Moneda': 'Tipo_Moneda'\n",
    "}\n",
    "\n",
    "# Renombrar las columnas\n",
    "df = df.rename(columns=nuevos_nombres)\n",
    "\n",
    "# Función para eliminar tildes de una cadena\n",
    "def remover_tildes(cadena):\n",
    "    if isinstance(cadena, str):\n",
    "        return cadena.translate(str.maketrans('áéíóúÁÉÍÓÚñÑ', 'aeiouAEIOUnN'))\n",
    "    return cadena\n",
    "\n",
    "df = df.applymap(remover_tildes)"
   ]
  },
  {
   "cell_type": "markdown",
   "metadata": {},
   "source": [
    "### 5) Verificar la existencia de valores nulos en el dataset limpiado y de valores duplicados"
   ]
  },
  {
   "cell_type": "code",
   "execution_count": null,
   "metadata": {},
   "outputs": [],
   "source": [
    "# Verificar valores nulos por cada columna y mostrar solo las columnas con valores nulos\n",
    "null_values = df.isnull().sum()\n",
    "print(\"\\nValores nulos en cada columna del dataset:\")\n",
    "print(null_values)\n",
    "\n",
    "# Mostrar las columnas con valores nulos\n",
    "columns_with_nulls = null_values[null_values > 0]\n",
    "print(\"\\nColumnas con valores nulos en el dataset:\")\n",
    "print(columns_with_nulls)\n",
    "\n",
    "# Verificar filas duplicadas\n",
    "print(\"\\nFilas duplicadas en el dataset:\")\n",
    "print(df.duplicated().sum())"
   ]
  },
  {
   "cell_type": "markdown",
   "metadata": {},
   "source": [
    "### 6) Guardar el nuevo dataset cleaned"
   ]
  },
  {
   "cell_type": "code",
   "execution_count": 10,
   "metadata": {},
   "outputs": [],
   "source": [
    "# Guardar el archivo actualizado\n",
    "cleaned_file_path2 = 'C:/Users/jcast/Documents/PythonUDD_ProyectoFinal/data/BaseDefinitivaINDICES-2005-2024_cleaned.csv'\n",
    "\n",
    "df.to_csv(cleaned_file_path2, sep=';', index=False, encoding='utf-8')\n",
    "\n",
    "# Cargar el dataset clean especificando el delimitador\n",
    "df_cleaned = pd.read_csv(cleaned_file_path2, sep=';', encoding='utf-8')"
   ]
  }
 ],
 "metadata": {
  "kernelspec": {
   "display_name": "Python 3",
   "language": "python",
   "name": "python3"
  },
  "language_info": {
   "codemirror_mode": {
    "name": "ipython",
    "version": 3
   },
   "file_extension": ".py",
   "mimetype": "text/x-python",
   "name": "python",
   "nbconvert_exporter": "python",
   "pygments_lexer": "ipython3",
   "version": "3.12.4"
  }
 },
 "nbformat": 4,
 "nbformat_minor": 2
}
