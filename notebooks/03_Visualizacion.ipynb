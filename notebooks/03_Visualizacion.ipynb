{
 "cells": [
  {
   "cell_type": "markdown",
   "metadata": {},
   "source": [
    "### 1) Cargar dataset limpiado"
   ]
  },
  {
   "cell_type": "code",
   "execution_count": null,
   "metadata": {},
   "outputs": [],
   "source": [
    "import pandas as pd\n",
    "\n",
    "# Configuración para mostrar todas las columnas\n",
    "pd.set_option('display.max_columns', None)\n",
    "pd.set_option('display.max_rows', None)\n",
    "\n",
    "# URL cruda del archivo CSV en GitHub\n",
    "url = 'https://github.com/jcastilloc168/PythonUDD_ProyectoFinal/raw/main/data/BaseDefinitivaINDICES-2005-2024_cleaned.csv'\n",
    "\n",
    "# Leer el archivo CSV desde GitHub\n",
    "df_clean = pd.read_csv(url, delimiter=';')\n",
    "\n",
    "## Mostrar las primeras cinco filas\n",
    "print(df_clean.head())"
   ]
  },
  {
   "cell_type": "markdown",
   "metadata": {},
   "source": [
    "# 2) Creacion de nuevas variables "
   ]
  },
  {
   "cell_type": "markdown",
   "metadata": {},
   "source": [
    "### 2.1) Nueva columna con la macro zonas del pais\n",
    "\n",
    "Con la finalidad de hacer un estudio con el comportamiento de las macrozonas del pais en la relacion a la matricula en educación superior, crearemos una variable denomina \"Macrozona\". Para el caso de la región metropolitana se dejará como \"Metropolitana\"."
   ]
  },
  {
   "cell_type": "code",
   "execution_count": null,
   "metadata": {},
   "outputs": [],
   "source": [
    "# Definir un diccionario para mapear las regiones a sus macrozonas correspondientes\n",
    "macrozona_map = {\n",
    "    \"Region de Arica y Parinacota\": \"Macrozona Norte\",\n",
    "    \"Region de Tarapaca\": \"Macrozona Norte\",\n",
    "    \"Region de Antofagasta\": \"Macrozona Norte\",\n",
    "    \"Region de Atacama\": \"Macrozona Norte\",\n",
    "    \"Region de Coquimbo\": \"Macrozona Centro\",\n",
    "    \"Region de Valparaiso\": \"Macrozona Centro\",\n",
    "    \"Region del Gral. B. O`Higgins\": \"Macrozona Centro Sur\",\n",
    "    \"Region del Maule\": \"Macrozona Centro Sur\",\n",
    "    \"Region de Nuble\": \"Macrozona Centro Sur\",\n",
    "    \"Region del Bio-Bio\": \"Macrozona Centro Sur\",\n",
    "    \"Region de La Araucania\": \"Macrozona Sur\",\n",
    "    \"Region de Los Lagos\": \"Macrozona Sur\",\n",
    "    \"Region de los Rios\": \"Macrozona Sur\",\n",
    "    \"Region de Aysen\": \"Macrozona Austral\",\n",
    "    \"Region de Magallanes\": \"Macrozona Austral\"\n",
    "}\n",
    "\n",
    "# Crear la nueva columna de macrozonas\n",
    "df_clean['Macrozona'] = df_clean['Nombre_Region'].map(macrozona_map)\n",
    "\n",
    "# Para las regiones que no estén en el diccionario (como Región Metropolitana), dejamos la región igual\n",
    "df_clean['Macrozona'].fillna(df_clean['Nombre_Region'], inplace=True)\n",
    "\n",
    "print(df_clean.head())"
   ]
  },
  {
   "cell_type": "markdown",
   "metadata": {},
   "source": [
    "### 2.2) Creación de nuevas variables de porcentaje de estudiantes y costo total carrera"
   ]
  },
  {
   "cell_type": "code",
   "execution_count": null,
   "metadata": {},
   "outputs": [],
   "source": [
    "# Crear nuevas variables relacionadas con la matrícula\n",
    "\n",
    "# Porcentaje de Matriculados Primer Año Extranjeros\n",
    "df_clean['Porcentaje_Matricula_Primer_Anio_Extranjeros'] = (df_clean['Matricula_Primer_Anio_Extranjeros'] / df_clean['Matricula_Primer_Anio']) * 100\n",
    "\n",
    "# Porcentaje de Matriculados Total Extranjeros\n",
    "df_clean['Porcentaje_Matricula_Total_Extranjeros'] = (df_clean['Matricula_Total_Extranjeros'] / df_clean['Matricula_Total']) * 100\n",
    "\n",
    "# Porcentaje de Matriculados Primer Año Hombres\n",
    "df_clean['Porcentaje_Matricula_Primer_Anio_Hombres'] = (df_clean['Matricula_Primer_Anio_Hombres'] / df_clean['Matricula_Primer_Anio']) * 100\n",
    "\n",
    "# Porcentaje de Matriculados Primer Año Mujeres\n",
    "df_clean['Porcentaje_Matricula_Primer_Anio_Mujeres'] = (df_clean['Matricula_Primer_Anio_Mujeres'] / df_clean['Matricula_Primer_Anio']) * 100\n",
    "\n",
    "# Porcentaje de Matriculados Total Hombres\n",
    "df_clean['Porcentaje_Matricula_Total_Hombres'] = (df_clean['Matricula_Total_Hombres'] / df_clean['Matricula_Total']) * 100\n",
    "\n",
    "# Porcentaje de Matriculados Total Mujeres\n",
    "df_clean['Porcentaje_Matricula_Total_Mujeres'] = (df_clean['Matricula_Total_Mujeres'] / df_clean['Matricula_Total']) * 100\n",
    "\n",
    "# Costo Total de Educación\n",
    "df_clean['Costo_Total_Programa'] = df_clean['Valor_Matricula'] + df_clean['Valor_Arancel']\n",
    "\n",
    "# Mostrar las primeras filas para verificar las nuevas columnas\n",
    "print(df_clean.head())"
   ]
  }
 ],
 "metadata": {
  "kernelspec": {
   "display_name": "Python 3",
   "language": "python",
   "name": "python3"
  },
  "language_info": {
   "codemirror_mode": {
    "name": "ipython",
    "version": 3
   },
   "file_extension": ".py",
   "mimetype": "text/x-python",
   "name": "python",
   "nbconvert_exporter": "python",
   "pygments_lexer": "ipython3",
   "version": "3.12.4"
  }
 },
 "nbformat": 4,
 "nbformat_minor": 2
}
