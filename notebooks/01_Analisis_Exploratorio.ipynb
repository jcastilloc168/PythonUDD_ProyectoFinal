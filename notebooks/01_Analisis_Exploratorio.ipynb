{
 "cells": [
  {
   "cell_type": "markdown",
   "metadata": {},
   "source": [
    "# Analisis exploratorio\n",
    "## Base de datos de matricula en educación superior desde el año 2005 al 2024."
   ]
  },
  {
   "cell_type": "code",
   "execution_count": null,
   "metadata": {},
   "outputs": [],
   "source": [
    "import pandas as pd\n",
    "\n",
    "# Configuración para mostrar todas las columnas\n",
    "pd.set_option('display.max_columns', None)\n",
    "pd.set_option('display.max_rows', None)\n",
    "\n",
    "# URL cruda del archivo CSV en GitHub\n",
    "url = 'https://github.com/jcastilloc168/PythonUDD_ProyectoFinal/raw/main/data/BaseDefinitivaINDICES-2005-2024.csv'\n",
    "\n",
    "# Leer el archivo CSV desde GitHub\n",
    "df = pd.read_csv(url, delimiter=';')\n",
    "\n",
    "# Verificar el resultado\n",
    "print(df.head())"
   ]
  },
  {
   "cell_type": "code",
   "execution_count": null,
   "metadata": {},
   "outputs": [],
   "source": [
    "# Obtener información del dataset\n",
    "print(df.info())"
   ]
  },
  {
   "cell_type": "markdown",
   "metadata": {},
   "source": [
    "### Descripción de las Columnas (1-30)\n",
    "\n",
    "| Nombre del Campo | Descripción del Campo |\n",
    "|------------------|-----------------------|\n",
    "| **Año (int64)** | Año de proceso |\n",
    "| **Cód. Institución (int64)** | Código CNED de la institución |\n",
    "| **Nombre Institución (object)** | Nombre de la institución de educación superior |\n",
    "| **Tipo Institución (object)** | Clasificación de la institución según su tipo |\n",
    "| **Clasificación1 (object)** | Primera clasificación de la institución |\n",
    "| **Clasificación2 (object)** | Segunda clasificación de la institución |\n",
    "| **Clasificación3 (object)** | Tercera clasificación de la institución |\n",
    "| **Clasificación4 (object)** | Cuarta clasificación de la institución |\n",
    "| **Clasificación5 (object)** | Quinta clasificación de la institución |\n",
    "| **Clasificación6 (object)** | Sexta clasificación de la institución |\n",
    "| **Nombre de la Sede (object)** | Ciudad donde se dicta el programa |\n",
    "| **Comuna donde se imparte la carrera o programa (object)** | Nombre de la comuna donde la institución declara que dicta el programa |\n",
    "| **Nombre Region (object)** | Nombre de la región donde se dicta el programa |\n",
    "| **Orden Geográfico de la Región (Norte a Sur) (int64)** | Código que permite ordenar geográficamente las regiones de norte a sur |\n",
    "| **Cód. Carrera (int64)** | Código de la carrera |\n",
    "| **Carrera Genérica (object)** | Nombre genérico de la carrera |\n",
    "| **Nombre Programa (object)** | Nombre del programa específico |\n",
    "| **Mención o Especialidad (object)** | Mención o especialidad del programa |\n",
    "| **Horario (object)** | Horario del programa. (Diurno, Vespertino u otro) |\n",
    "| **Tipo Programa (object)** | Tipo de programa (e.g., Programa Regular o Especial) |\n",
    "| **Area Conocimiento (object)** | Área de conocimiento del programa |\n",
    "| **idgenerocarrera (int64)** | Código interno CNED de carrera genérica |\n",
    "| **Tipo Carrera (object)** | Corresponde a una clasificación de la carrera o programa según su plan de estudios |\n",
    "| **IngresoDirecto (object)** | Indica si el ingreso es directo (Sí o No) |\n",
    "| **Año Inicio Actividades (int64)** | Año de inicio de las actividades del programa |\n",
    "| **Nombre del Campus (object)** | Nombre del campus donde se imparte el programa |\n",
    "| **Duración (en semestres) (int64)** | Duración del programa en semestres |\n",
    "| **Cód. Campus (int64)** | Código del campus |\n",
    "| **Cód. Sede (int64)** | Código de la sede |\n",
    "| **Título (object)** | Título otorgado por el programa |\n",
    "\n",
    "### Descripción de las Columnas (31-61)\n",
    "\n",
    "| Nombre del Campo | Descripción del Campo |\n",
    "|------------------|-----------------------|\n",
    "| **Grado Académico (object)** | Grado académico otorgado por el programa |\n",
    "| **Máximo Puntaje (promedio matemáticas y lenguaje) (float64)** | Máximo puntaje promedio en matemáticas y lenguaje |\n",
    "| **Promedio Puntaje (promedio matemáticas y lenguaje) (float64)** | Puntaje promedio en matemáticas y lenguaje |\n",
    "| **Mínimo Puntaje (promedio matemáticas y lenguaje) (float64)** | Mínimo puntaje promedio en matemáticas y lenguaje |\n",
    "| **Puntaje de corte (primer seleccionado) (float64)** | Puntaje de corte del primer seleccionado |\n",
    "| **Puntaje de corte (promedio de la carrera) (float64)** | Puntaje de corte promedio de la carrera |\n",
    "| **Puntaje de corte (último seleccionado) (float64)** | Puntaje de corte del último seleccionado |\n",
    "| **Máximo Puntaje NEM (float64)** | Máximo puntaje NEM |\n",
    "| **Promedio Puntaje NEM (float64)** | Puntaje promedio NEM |\n",
    "| **Mínimo Puntaje NEM (float64)** | Mínimo puntaje NEM |\n",
    "| **Máximo Puntaje Ranking (float64)** | Máximo puntaje de ranking |\n",
    "| **Promedio Puntaje Ranking (float64)** | Puntaje promedio de ranking |\n",
    "| **Mínimo Puntaje Ranking (float64)** | Mínimo puntaje de ranking |\n",
    "| **Nº Alumnos Ingreso Via PSU o PDT (int64)** | Número de alumnos ingresados vía PSU o PDT |\n",
    "| **Nº Alumnos Ingreso Otra Via (int64)** | Número de alumnos ingresados por otras vías |\n",
    "| **Valor de matrícula (float64)** | Valor de la matrícula en pesos o UF |\n",
    "| **Valor de arancel (float64)** | Valor del arancel en pesos o UF |\n",
    "| **Valor del Título (float64)** | Valor del título en pesos o UF |\n",
    "| **Tipo Moneda (object)** | Tipo de moneda (Pesos o UF) |\n",
    "| **Vacantes (int64)** | Número de vacantes disponibles |\n",
    "| **Matrícula primer año hombres (int64)** | Número de matriculados hombres en el primer año |\n",
    "| **Matrícula primer año mujeres (int64)** | Número de matriculadas mujeres en el primer año |\n",
    "| **Matrícula primer año extranjeros (int64)** | Número de matriculados extranjeros en el primer año |\n",
    "| **auxiliar (int64)** | Columna auxiliar (descripción no especificada) |\n",
    "| **Matrícula Primer Año (int64)** | Número total de matriculados en el primer año |\n",
    "| **Matrícula total hombres (int64)** | Número total de hombres matriculados |\n",
    "| **Matrícula total mujeres (int64)** | Número total de mujeres matriculadas |\n",
    "| **Matrícula total extranjeros (int64)** | Número total de extranjeros matriculados |\n",
    "| **Matrícula Total (int64)** | Número total de matriculados |\n",
    "| **Códgo SIES (object)** | Código SIES (Sistema de Información de la Educación Superior) |\n",
    "| **Pregrado/Posgrado (object)** | Indica si el programa es de pregrado o posgrado |"
   ]
  },
  {
   "cell_type": "markdown",
   "metadata": {},
   "source": [
    "### Analisis de valores nulos por columna"
   ]
  },
  {
   "cell_type": "code",
   "execution_count": null,
   "metadata": {},
   "outputs": [],
   "source": [
    "# Verificar valores nulos por cada columna y mostrar solo las columnas con valores nulos\n",
    "valores_nulos = df.isnull().sum()\n",
    "\n",
    "# Filtrar solo las columnas con valores nulos mayores a 0 y mostrar\n",
    "valores_nulos = valores_nulos[valores_nulos > 0].sort_values(ascending=False)\n",
    "print(\"\\nValores nulos en cada columna del dataset:\")\n",
    "print(valores_nulos)"
   ]
  },
  {
   "cell_type": "code",
   "execution_count": null,
   "metadata": {},
   "outputs": [],
   "source": [
    "# Porcentaje de valores faltantes por columna\n",
    "valores_nulos_porcentaje = (valores_nulos / len(df)) * 100\n",
    "\n",
    "# Filtrar solo las columnas con porcentaje de valores nulos mayor a 0% y ordenar de mayor a menor\n",
    "valores_nulos_porcentaje = valores_nulos_porcentaje[valores_nulos_porcentaje > 0].sort_values(ascending=False)\n",
    "print(\"\\nEl Porcentaje de Valores nulos en cada columna del dataset (mayor a 0%):\")\n",
    "print(valores_nulos_porcentaje)"
   ]
  },
  {
   "cell_type": "markdown",
   "metadata": {},
   "source": [
    "#### Tabla resumen con los valores nulos por columna\n",
    "\n",
    "| Nombre del Campo                                      | Valores Nulos | Porcentaje de Valores Nulos (%) |\n",
    "|-------------------------------------------------------|---------------|-----------------------------|\n",
    "| Mínimo Puntaje Ranking                                | 211823        | 91.013109                   |\n",
    "| Máximo Puntaje Ranking                                | 211810        | 91.007523                   |\n",
    "| Promedio Puntaje Ranking                              | 211667        | 90.946081                   |\n",
    "| Mínimo Puntaje NEM                                    | 210787        | 90.567975                   |\n",
    "| Máximo Puntaje NEM                                    | 210774        | 90.562390                   |\n",
    "| Promedio Puntaje NEM                                  | 210589        | 90.482901                   |\n",
    "| Mención o Especialidad                                | 200534        | 86.162611                   |\n",
    "| Puntaje de corte (promedio de la carrera)             | 196798        | 84.557380                   |\n",
    "| Puntaje de corte (primer seleccionado)                | 196702        | 84.516132                   |\n",
    "| Puntaje de corte (último seleccionado)                | 194667        | 83.641762                   |\n",
    "| Mínimo Puntaje (promedio matemáticas y lenguaje)      | 191162        | 82.135783                   |\n",
    "| Promedio Puntaje (promedio matemáticas y lenguaje)    | 191004        | 82.067896                   |\n",
    "| Máximo Puntaje (promedio matemáticas y lenguaje)      | 190712        | 81.942433                   |\n",
    "| Nº Alumnos Ingreso Via PSU o PDT                      | 189276        | 81.325433                   |\n",
    "| Nº Alumnos Ingreso Otra Via                           | 155281        | 66.718943                   |\n",
    "| Grado Académico                                       | 145700        | 62.602314                   |\n",
    "| Nombre del Campus                                     | 122362        | 52.574773                   |\n",
    "| Cód. Campus                                           | 121914        | 52.382282                   |\n",
    "| Códgo SIES                                            | 87047         | 37.401123                   |\n",
    "| Matrícula primer año extranjeros                      | 64016         | 27.505489                   |\n",
    "| Vacantes                                              | 61255         | 26.319182                   |\n",
    "| Valor de arancel                                      | 59433         | 25.536330                   |\n",
    "| Matrícula total extranjeros                           | 54405         | 23.375971                   |\n",
    "| Valor de matrícula                                    | 53390         | 22.939860                   |\n",
    "| Valor del Título                                      | 37857         | 16.265860                   |\n",
    "| Título                                                | 31886         | 13.700325                   |\n",
    "| Matrícula primer año mujeres                          | 22340         | 9.598735                    |\n",
    "| Matrícula primer año hombres                          | 22100         | 9.495615                    |\n",
    "| Matrícula total mujeres                               | 3758          | 1.614684                    |\n",
    "| Matrícula total hombres                               | 3347          | 1.438092                    |\n",
    "| Duración (en semestres)                               | 726           | 0.311937                    |\n",
    "\n",
    "\n",
    "Segun tabla resumen de valores, se puede visualizar que el dataset en estudio contiene una gran cantidad de valores nulos, donde en algunos de los casos de tienen un porcentaje mayor a 50% de datos nulos o faltantes. En el notebook de \"Limpieza de datos\" revisaremos con detalle los valores nulos y adoptaremos diferentes tipos de estrategias con la finalidad de tener un dataset lo mas limpio posible y a la vez que sea confiable a la hora de realizar analisis estadisticos y visualizaciones.\n"
   ]
  }
 ],
 "metadata": {
  "kernelspec": {
   "display_name": "Python 3",
   "language": "python",
   "name": "python3"
  },
  "language_info": {
   "codemirror_mode": {
    "name": "ipython",
    "version": 3
   },
   "file_extension": ".py",
   "mimetype": "text/x-python",
   "name": "python",
   "nbconvert_exporter": "python",
   "pygments_lexer": "ipython3",
   "version": "3.12.4"
  }
 },
 "nbformat": 4,
 "nbformat_minor": 2
}
