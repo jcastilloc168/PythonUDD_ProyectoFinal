{
 "cells": [
  {
   "cell_type": "markdown",
   "metadata": {},
   "source": [
    "# Analisis exploratorio\n",
    "## Base de datos de matricula en educación superior desde el año 2005 al 2024."
   ]
  },
  {
   "cell_type": "code",
   "execution_count": null,
   "metadata": {},
   "outputs": [],
   "source": [
    "import pandas as pd\n",
    "\n",
    "# Configuración para mostrar todas las columnas\n",
    "pd.set_option('display.max_columns', None)\n",
    "pd.set_option('display.max_rows', None)\n",
    "\n",
    "# URL cruda del archivo CSV en GitHub\n",
    "url = 'https://github.com/jcastilloc168/PythonUDD_ProyectoFinal/raw/main/data/BaseDefinitivaINDICES-2005-2024.csv'\n",
    "\n",
    "# Leer el archivo CSV desde GitHub\n",
    "df = pd.read_csv(url, delimiter=';')\n",
    "\n",
    "# Verificar el resultado\n",
    "print(df.head())"
   ]
  },
  {
   "cell_type": "code",
   "execution_count": null,
   "metadata": {},
   "outputs": [],
   "source": [
    "# Obtener información del dataset\n",
    "print(df.info())"
   ]
  },
  {
   "cell_type": "markdown",
   "metadata": {},
   "source": [
    "### Descripción de las Columnas (1-30)\n",
    "\n",
    "| Nombre del Campo | Descripción del Campo |\n",
    "|------------------|-----------------------|\n",
    "| **Año (int64)** | Año de proceso |\n",
    "| **Cód. Institución (int64)** | Código CNED de la institución |\n",
    "| **Nombre Institución (object)** | Nombre de la institución de educación superior |\n",
    "| **Tipo Institución (object)** | Clasificación de la institución según su tipo |\n",
    "| **Clasificación1 (object)** | Primera clasificación de la institución |\n",
    "| **Clasificación2 (object)** | Segunda clasificación de la institución |\n",
    "| **Clasificación3 (object)** | Tercera clasificación de la institución |\n",
    "| **Clasificación4 (object)** | Cuarta clasificación de la institución |\n",
    "| **Clasificación5 (object)** | Quinta clasificación de la institución |\n",
    "| **Clasificación6 (object)** | Sexta clasificación de la institución |\n",
    "| **Nombre de la Sede (object)** | Ciudad donde se dicta el programa |\n",
    "| **Comuna donde se imparte la carrera o programa (object)** | Nombre de la comuna donde la institución declara que dicta el programa |\n",
    "| **Nombre Region (object)** | Nombre de la región donde se dicta el programa |\n",
    "| **Orden Geográfico de la Región (Norte a Sur) (int64)** | Código que permite ordenar geográficamente las regiones de norte a sur |\n",
    "| **Cód. Carrera (int64)** | Código de la carrera |\n",
    "| **Carrera Genérica (object)** | Nombre genérico de la carrera |\n",
    "| **Nombre Programa (object)** | Nombre del programa específico |\n",
    "| **Mención o Especialidad (object)** | Mención o especialidad del programa |\n",
    "| **Horario (object)** | Horario del programa. (Diurno, Vespertino u otro) |\n",
    "| **Tipo Programa (object)** | Tipo de programa (e.g., Programa Regular o Especial) |\n",
    "| **Area Conocimiento (object)** | Área de conocimiento del programa |\n",
    "| **idgenerocarrera (int64)** | Código interno CNED de carrera genérica |\n",
    "| **Tipo Carrera (object)** | Corresponde a una clasificación de la carrera o programa según su plan de estudios |\n",
    "| **IngresoDirecto (object)** | Indica si el ingreso es directo (Sí o No) |\n",
    "| **Año Inicio Actividades (int64)** | Año de inicio de las actividades del programa |\n",
    "| **Nombre del Campus (object)** | Nombre del campus donde se imparte el programa |\n",
    "| **Duración (en semestres) (int64)** | Duración del programa en semestres |\n",
    "| **Cód. Campus (int64)** | Código del campus |\n",
    "| **Cód. Sede (int64)** | Código de la sede |\n",
    "| **Título (object)** | Título otorgado por el programa |\n",
    "\n",
    "### Descripción de las Columnas (31-61)\n",
    "\n",
    "| Nombre del Campo | Descripción del Campo |\n",
    "|------------------|-----------------------|\n",
    "| **Grado Académico (object)** | Grado académico otorgado por el programa |\n",
    "| **Máximo Puntaje (promedio matemáticas y lenguaje) (float64)** | Máximo puntaje promedio en matemáticas y lenguaje |\n",
    "| **Promedio Puntaje (promedio matemáticas y lenguaje) (float64)** | Puntaje promedio en matemáticas y lenguaje |\n",
    "| **Mínimo Puntaje (promedio matemáticas y lenguaje) (float64)** | Mínimo puntaje promedio en matemáticas y lenguaje |\n",
    "| **Puntaje de corte (primer seleccionado) (float64)** | Puntaje de corte del primer seleccionado |\n",
    "| **Puntaje de corte (promedio de la carrera) (float64)** | Puntaje de corte promedio de la carrera |\n",
    "| **Puntaje de corte (último seleccionado) (float64)** | Puntaje de corte del último seleccionado |\n",
    "| **Máximo Puntaje NEM (float64)** | Máximo puntaje NEM |\n",
    "| **Promedio Puntaje NEM (float64)** | Puntaje promedio NEM |\n",
    "| **Mínimo Puntaje NEM (float64)** | Mínimo puntaje NEM |\n",
    "| **Máximo Puntaje Ranking (float64)** | Máximo puntaje de ranking |\n",
    "| **Promedio Puntaje Ranking (float64)** | Puntaje promedio de ranking |\n",
    "| **Mínimo Puntaje Ranking (float64)** | Mínimo puntaje de ranking |\n",
    "| **Nº Alumnos Ingreso Via PSU o PDT (int64)** | Número de alumnos ingresados vía PSU o PDT |\n",
    "| **Nº Alumnos Ingreso Otra Via (int64)** | Número de alumnos ingresados por otras vías |\n",
    "| **Valor de matrícula (float64)** | Valor de la matrícula en pesos o UF |\n",
    "| **Valor de arancel (float64)** | Valor del arancel en pesos o UF |\n",
    "| **Valor del Título (float64)** | Valor del título en pesos o UF |\n",
    "| **Tipo Moneda (object)** | Tipo de moneda (Pesos o UF) |\n",
    "| **Vacantes (int64)** | Número de vacantes disponibles |\n",
    "| **Matrícula primer año hombres (int64)** | Número de matriculados hombres en el primer año |\n",
    "| **Matrícula primer año mujeres (int64)** | Número de matriculadas mujeres en el primer año |\n",
    "| **Matrícula primer año extranjeros (int64)** | Número de matriculados extranjeros en el primer año |\n",
    "| **auxiliar (int64)** | Columna auxiliar (descripción no especificada) |\n",
    "| **Matrícula Primer Año (int64)** | Número total de matriculados en el primer año |\n",
    "| **Matrícula total hombres (int64)** | Número total de hombres matriculados |\n",
    "| **Matrícula total mujeres (int64)** | Número total de mujeres matriculadas |\n",
    "| **Matrícula total extranjeros (int64)** | Número total de extranjeros matriculados |\n",
    "| **Matrícula Total (int64)** | Número total de matriculados |\n",
    "| **Códgo SIES (object)** | Código SIES (Sistema de Información de la Educación Superior) |\n",
    "| **Pregrado/Posgrado (object)** | Indica si el programa es de pregrado o posgrado |"
   ]
  }
 ],
 "metadata": {
  "kernelspec": {
   "display_name": "Python 3",
   "language": "python",
   "name": "python3"
  },
  "language_info": {
   "codemirror_mode": {
    "name": "ipython",
    "version": 3
   },
   "file_extension": ".py",
   "mimetype": "text/x-python",
   "name": "python",
   "nbconvert_exporter": "python",
   "pygments_lexer": "ipython3",
   "version": "3.12.4"
  }
 },
 "nbformat": 4,
 "nbformat_minor": 2
}
